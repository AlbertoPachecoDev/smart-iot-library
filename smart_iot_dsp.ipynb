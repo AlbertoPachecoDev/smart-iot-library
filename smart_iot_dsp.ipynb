{
  "nbformat": 4,
  "nbformat_minor": 0,
  "metadata": {
    "colab": {
      "name": "smart-iot-dsp.ipynb",
      "provenance": []
    },
    "kernelspec": {
      "name": "python3",
      "display_name": "Python 3"
    },
    "language_info": {
      "name": "python"
    }
  },
  "cells": [
    {
      "cell_type": "code",
      "source": [
        "url = 'https://raw.githubusercontent.com/AlbertoPachecoDev/smart-iot-library/main/smartiot.py'\n",
        "!wget --no-cache --backups=1 {url}"
      ],
      "metadata": {
        "colab": {
          "base_uri": "https://localhost:8080/"
        },
        "id": "gm4S7PNiFG4W",
        "outputId": "67228e99-2e65-4f68-bfd5-fc6d49e4122f"
      },
      "execution_count": 11,
      "outputs": [
        {
          "output_type": "stream",
          "name": "stdout",
          "text": [
            "--2022-07-21 18:51:38--  https://raw.githubusercontent.com/AlbertoPachecoDev/smart-iot-library/main/smartiot.py\n",
            "Resolving raw.githubusercontent.com (raw.githubusercontent.com)... 185.199.108.133, 185.199.109.133, 185.199.110.133, ...\n",
            "Connecting to raw.githubusercontent.com (raw.githubusercontent.com)|185.199.108.133|:443... connected.\n",
            "HTTP request sent, awaiting response... 200 OK\n",
            "Length: 115 [text/plain]\n",
            "Saving to: ‘smartiot.py’\n",
            "\n",
            "smartiot.py         100%[===================>]     115  --.-KB/s    in 0s      \n",
            "\n",
            "2022-07-21 18:51:38 (7.15 MB/s) - ‘smartiot.py’ saved [115/115]\n",
            "\n"
          ]
        }
      ]
    },
    {
      "cell_type": "code",
      "source": [
        "import smartiot\n",
        "\n",
        "smartiot.version()"
      ],
      "metadata": {
        "colab": {
          "base_uri": "https://localhost:8080/"
        },
        "id": "sXXGfKN_GlBn",
        "outputId": "2df386a3-a433-4d3f-e083-1f3d17986db9"
      },
      "execution_count": 12,
      "outputs": [
        {
          "output_type": "stream",
          "name": "stdout",
          "text": [
            "Smart IoT Library ver. 1.0\n"
          ]
        }
      ]
    },
    {
      "cell_type": "code",
      "source": [
        "help(smartiot)"
      ],
      "metadata": {
        "colab": {
          "base_uri": "https://localhost:8080/"
        },
        "id": "m6FiflvZGx8E",
        "outputId": "335fe67d-350b-4e3a-dd6e-fdb40ddd43c7"
      },
      "execution_count": 13,
      "outputs": [
        {
          "output_type": "stream",
          "name": "stdout",
          "text": [
            "Help on module smartiot:\n",
            "\n",
            "NAME\n",
            "    smartiot - # Smart IoT Library\n",
            "\n",
            "FUNCTIONS\n",
            "    version()\n",
            "        Shows SmartIoT library version\n",
            "\n",
            "FILE\n",
            "    /content/smartiot.py\n",
            "\n",
            "\n"
          ]
        }
      ]
    }
  ]
}